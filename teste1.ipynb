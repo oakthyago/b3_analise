{
 "cells": [
  {
   "cell_type": "code",
   "execution_count": null,
   "id": "7615a91b",
   "metadata": {},
   "outputs": [],
   "source": []
  },
  {
   "cell_type": "code",
   "execution_count": 36,
   "id": "0142bc70",
   "metadata": {},
   "outputs": [
    {
     "name": "stderr",
     "output_type": "stream",
     "text": [
      "C:\\Users\\ACER\\AppData\\Local\\Temp\\ipykernel_19816\\1214284512.py:6: FutureWarning: YF.download() has changed argument auto_adjust default to True\n",
      "  c=yf.download(t, interval=interval, period=period, progress=False)['Close'].dropna()\n"
     ]
    }
   ],
   "source": [
    "# pip install yfinance pandas\n",
    "import yfinance as yf, pandas as pd\n",
    "\n",
    "\n",
    "\n",
    "c=yf.download(t, interval=interval, period=period, progress=False)['Close'].dropna()\n",
    "\n",
    "\n"
   ]
  },
  {
   "cell_type": "code",
   "execution_count": 37,
   "id": "a581640b",
   "metadata": {},
   "outputs": [
    {
     "name": "stdout",
     "output_type": "stream",
     "text": [
      "0 []\n"
     ]
    }
   ],
   "source": [
    "import requests\n",
    "\n",
    "r = requests.get(\"https://brapi.dev/api/available\", timeout=15)\n",
    "r.raise_for_status()\n",
    "data = r.json()\n",
    "\n",
    "# filtra apenas tickers que já são da B3\n",
    "tickers_sa = sorted({t for t in data.get(\"stocks\", []) if t.endswith(\".SA\")})\n",
    "\n",
    "print(len(tickers_sa), tickers_sa[:15])\n"
   ]
  },
  {
   "cell_type": "code",
   "execution_count": 53,
   "id": "6c63f069",
   "metadata": {},
   "outputs": [
    {
     "name": "stdout",
     "output_type": "stream",
     "text": [
      "1757 ['A1AP34.SA', 'A1EG34.SA', 'A1IV34.SA', 'A1JG34.SA', 'A1LB34.SA', 'A1LG34.SA', 'A1LN34.SA', 'A1MD34.SA', 'A1MP34.SA', 'A1MT34.SA', 'A1NE34.SA', 'A1PA34.SA', 'A1PH34.SA', 'A1PO34.SA', 'A1RE34.SA']\n"
     ]
    }
   ],
   "source": [
    "# pip install requests\n",
    "import requests\n",
    "\n",
    "r = requests.get(\"https://brapi.dev/api/available\", timeout=15)\n",
    "r.raise_for_status()\n",
    "data = r.json()\n",
    "\n",
    "tickers = data.get(\"stocks\", [])           # <- já vem como lista de strings\n",
    "tickers_sa = sorted({f\"{t}.SA\" for t in tickers})\n",
    "\n",
    "print(len(tickers_sa), tickers_sa[:15])\n"
   ]
  },
  {
   "cell_type": "code",
   "execution_count": null,
   "id": "5abd38a3",
   "metadata": {},
   "outputs": [],
   "source": []
  },
  {
   "cell_type": "code",
   "execution_count": 59,
   "id": "e330e85e",
   "metadata": {},
   "outputs": [
    {
     "name": "stdout",
     "output_type": "stream",
     "text": [
      "  cruzou: A1UT34.SA\n",
      "  cruzou: ABEV3.SA\n"
     ]
    },
    {
     "name": "stderr",
     "output_type": "stream",
     "text": [
      "\n",
      "1 Failed download:\n",
      "['AJFI11.SA']: Timeout('Failed to perform, curl: (28) Connection timed out after 10001 milliseconds. See https://curl.se/libcurl/c/libcurl-errors.html first for more details.')\n",
      "\n",
      "1 Failed download:\n",
      "['ALLD3.SA']: Timeout('Failed to perform, curl: (28) Connection timed out after 10001 milliseconds. See https://curl.se/libcurl/c/libcurl-errors.html first for more details.')\n"
     ]
    },
    {
     "name": "stdout",
     "output_type": "stream",
     "text": [
      "  cruzou: ALZR11.SA\n",
      "  cruzou: B1AM34.SA\n",
      "  cruzou: B1SA34.SA\n",
      "  cruzou: B5MB11.SA\n",
      "  cruzou: BBFI11.SA\n"
     ]
    },
    {
     "name": "stderr",
     "output_type": "stream",
     "text": [
      "Failed to get ticker 'BBOV11.SA' reason: Failed to perform, curl: (28) Operation timed out after 10008 milliseconds with 0 bytes received. See https://curl.se/libcurl/c/libcurl-errors.html first for more details.\n"
     ]
    },
    {
     "name": "stdout",
     "output_type": "stream",
     "text": [
      "  cruzou: BBRC11.SA\n",
      "  cruzou: BCWV39.SA\n",
      "  cruzou: BDIF11.SA\n",
      "  cruzou: BIDB11.SA\n",
      "  cruzou: BIXC39.SA\n",
      "  cruzou: BLPX39.SA\n",
      "  cruzou: BOEF39.SA\n",
      "  cruzou: BRCR11.SA\n",
      "  cruzou: BRIM11.SA\n",
      "  cruzou: BTRA11.SA\n",
      "  cruzou: C1BL34.SA\n",
      "  cruzou: C2RW34.SA\n",
      "  cruzou: CBAV3.SA\n",
      "  cruzou: CCME11.SA\n",
      "  cruzou: CGAS3.SA\n",
      "  cruzou: CLIN11.SA\n",
      "  cruzou: CSAN3.SA\n",
      "  cruzou: CXAG11.SA\n",
      "  cruzou: DASA3.SA\n",
      "  cruzou: DAYM11.SA\n",
      "  cruzou: E1DU34.SA\n",
      "  cruzou: E1QR34.SA\n",
      "  cruzou: EALT3.SA\n",
      "  cruzou: EGIE3.SA\n",
      "  cruzou: EUCA4.SA\n",
      "  cruzou: FAMB11.SA\n",
      "  cruzou: FIGS11.SA\n",
      "  cruzou: G1AR34.SA\n",
      "  cruzou: G1DS34.SA\n",
      "  cruzou: GMAT3.SA\n",
      "  cruzou: HGCR11.SA\n",
      "  cruzou: HSAF11.SA\n",
      "  cruzou: IBMB34.SA\n",
      "  cruzou: ICRI11.SA\n"
     ]
    },
    {
     "name": "stderr",
     "output_type": "stream",
     "text": [
      "Failed to get ticker 'JURO11.SA' reason: Failed to perform, curl: (28) Connection timed out after 10004 milliseconds. See https://curl.se/libcurl/c/libcurl-errors.html first for more details.\n"
     ]
    },
    {
     "name": "stdout",
     "output_type": "stream",
     "text": [
      "  cruzou: KNIP11.SA\n"
     ]
    },
    {
     "name": "stderr",
     "output_type": "stream",
     "text": [
      "Failed to get ticker 'KORE11.SA' reason: Failed to perform, curl: (28) Connection timed out after 10007 milliseconds. See https://curl.se/libcurl/c/libcurl-errors.html first for more details.\n"
     ]
    },
    {
     "name": "stdout",
     "output_type": "stream",
     "text": [
      "  cruzou: L1KQ34.SA\n",
      "  cruzou: LVBI11.SA\n",
      "  cruzou: LWSA3.SA\n",
      "  cruzou: MCRE11.SA\n",
      "  cruzou: MYPK3.SA\n",
      "  cruzou: NCRI11.SA\n",
      "  cruzou: O1KT34.SA\n",
      "  cruzou: PABY11.SA\n",
      "  cruzou: PACL11.SA\n"
     ]
    },
    {
     "name": "stderr",
     "output_type": "stream",
     "text": [
      "Failed to get ticker 'PATA11.SA' reason: Failed to perform, curl: (28) Connection timed out after 10011 milliseconds. See https://curl.se/libcurl/c/libcurl-errors.html first for more details.\n"
     ]
    },
    {
     "name": "stdout",
     "output_type": "stream",
     "text": [
      "  cruzou: PATA11.SA\n",
      "  cruzou: PETR3.SA\n",
      "  cruzou: PETR4.SA\n",
      "  cruzou: PGCO34.SA\n",
      "  cruzou: PMAM3.SA\n",
      "  cruzou: PPEI11.SA\n",
      "  cruzou: PQAG11.SA\n",
      "  cruzou: PTNT4.SA\n",
      "  cruzou: RBRD11.SA\n",
      "  cruzou: RBRL11.SA\n",
      "  cruzou: RBRP11.SA\n",
      "  cruzou: RECV3.SA\n",
      "  cruzou: RNEW3.SA\n",
      "  cruzou: RNEW4.SA\n",
      "  cruzou: RNGO11.SA\n",
      "  cruzou: SMRE11.SA\n",
      "  cruzou: SNFF11.SA\n",
      "  cruzou: T1AM34.SA\n",
      "  cruzou: TOTS3.SA\n",
      "  cruzou: TPIS3.SA\n",
      "  cruzou: USIM3.SA\n",
      "  cruzou: VCRI11.SA\n",
      "  cruzou: VVCR11.SA\n",
      "  cruzou: XPML11.SA\n"
     ]
    }
   ],
   "source": [
    "\n",
    "\n",
    "interval='1d'; period='30d'\n",
    "\n",
    "for t in tickers_sa:  # testar só os 3 primeiros\n",
    "    \n",
    "    df = yf.download(t, interval=interval, period=period, auto_adjust=False, progress=False)\n",
    "    if df.empty: \n",
    "        continue\n",
    "    c = df['Close'].dropna()\n",
    "    if isinstance(c, pd.DataFrame):  # garante Series (evita ambiguidade no .iloc)\n",
    "        c = c.iloc[:, 0]\n",
    "    if len(c) < 21:\n",
    "        continue\n",
    "\n",
    "    m3 = c.rolling(3).mean()\n",
    "    m8 = c.rolling(8).mean()\n",
    "    m20 = c.rolling(20).mean()\n",
    "\n",
    "    a = m3 - m8\n",
    "    y = m20 - m8\n",
    "\n",
    "    cruzou = (a.iloc[-2] - y.iloc[-2]) < 0 and (a.iloc[-1] - y.iloc[-1]) > 0\n",
    "    if cruzou:\n",
    "        print(f\"  cruzou: {t}\")\n"
   ]
  },
  {
   "cell_type": "code",
   "execution_count": null,
   "id": "33d86b8d",
   "metadata": {},
   "outputs": [],
   "source": [
    "\n"
   ]
  }
 ],
 "metadata": {
  "kernelspec": {
   "display_name": "Python 3",
   "language": "python",
   "name": "python3"
  },
  "language_info": {
   "codemirror_mode": {
    "name": "ipython",
    "version": 3
   },
   "file_extension": ".py",
   "mimetype": "text/x-python",
   "name": "python",
   "nbconvert_exporter": "python",
   "pygments_lexer": "ipython3",
   "version": "3.9.13"
  }
 },
 "nbformat": 4,
 "nbformat_minor": 5
}
