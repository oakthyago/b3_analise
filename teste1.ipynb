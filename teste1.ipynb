{
 "cells": [
  {
   "cell_type": "code",

 

   "execution_count": 1,
   "id": "7615a91b",
   "metadata": {},
<<<<<<< HEAD
   "outputs": [],
   "source": []
  },
  {
   "cell_type": "code",
   "execution_count": 1,
   "id": "0142bc70",
   "metadata": {},
   "outputs": [
    {
     "name": "stderr",
     "output_type": "stream",
     "text": [
      "C:\\Users\\ACER\\AppData\\Local\\Temp\\ipykernel_19816\\646131743.py:5: FutureWarning: YF.download() has changed argument auto_adjust default to True\n",
      "  c=yf.download(t, interval=interval, period=period, progress=False)['Close'].dropna()\n"
     ]
    }
   ],
   "source": [
    "# pip install yfinance pandas\n",
    "import yfinance as yf, pandas as pd\n",
    "\n",
    "t='BBAS3.SA'; interval='30m'; period='30d'\n",
    "c=yf.download(t, interval=interval, period=period, progress=False)['Close'].dropna()\n",
    "\n",
    "\n"
   ]
  },
  {
   "cell_type": "code",
   "execution_count": 2,
   "id": "e330e85e",
   "metadata": {},
   "outputs": [],
   "source": [
    "m3=c.rolling(3).mean()\n",
    "m8=c.rolling(8).mean()\n",
    "m20=c.rolling(20).mean()\n"
   ]
  },
  {
   "cell_type": "code",
   "execution_count": 5,
   "id": "33d86b8d",
   "metadata": {},
   "outputs": [
    {
     "name": "stdout",
     "output_type": "stream",
     "text": [
      "m3=21.32  m8=21.21  m20=21.18\n"
     ]
    },
    {
     "name": "stderr",
     "output_type": "stream",
     "text": [
      "C:\\Users\\ACER\\AppData\\Local\\Temp\\ipykernel_19816\\925476054.py:1: FutureWarning: Calling float on a single element Series is deprecated and will raise a TypeError in the future. Use float(ser.iloc[0]) instead\n",
      "  print(f\"m3={float(m3.iloc[-1]):.2f}  m8={float(m8.iloc[-1]):.2f}  m20={float(m20.iloc[-1]):.2f}\")\n"
     ]
    }
   ],
   "source": [
    "print(f\"m3={float(m3.iloc[-1]):.2f}  m8={float(m8.iloc[-1]):.2f}  m20={float(m20.iloc[-1]):.2f}\")\n",
    "\n",
    "a=(m3-m8); y=(m20-m8)   \n"
   ]
  },
  {
   "cell_type": "code",
   "execution_count": 6,
   "id": "68d5117e",
   "metadata": {},
=======

>>>>>>> 5b4a6eef5a8f9323c29a42139847594e47689aa1
   "outputs": [
    {
     "name": "stdout",
     "output_type": "stream",
     "text": [

      "BBAS3.SA 30m: Didi cruzou de BAIXO pra CIMA? NÃO\n"


     ]
    }
   ],
   "source": [

    "print(f\"{t} {interval}: Didi cruzou de BAIXO pra CIMA? \"\n",
    "      f\"{'SIM' if (a.iloc[-2]-y.iloc[-2]).item()<0 and (a.iloc[-1]-y.iloc[-1]).item()>0 else 'NÃO'}\")\n"


   ]
  }
 ],
 "metadata": {
  "kernelspec": {
   "display_name": "Python 3",
   "language": "python",
   "name": "python3"
  },
  "language_info": {
   "codemirror_mode": {
    "name": "ipython",
    "version": 3
   },
   "file_extension": ".py",
   "mimetype": "text/x-python",
   "name": "python",
   "nbconvert_exporter": "python",
   "pygments_lexer": "ipython3",
   "version": "3.9.13"
  }
 },
 "nbformat": 4,
 "nbformat_minor": 5
}
