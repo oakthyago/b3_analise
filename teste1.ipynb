{
 "cells": [
  {
   "cell_type": "code",
   "execution_count": 2,
   "id": "7615a91b",
   "metadata": {},
   "outputs": [
    {
     "name": "stdout",
     "output_type": "stream",
     "text": [
      "Requirement already satisfied: yfinance in c:\\users\\acer\\appdata\\local\\packages\\pythonsoftwarefoundation.python.3.9_qbz5n2kfra8p0\\localcache\\local-packages\\python39\\site-packages (0.2.65)\n",
      "Requirement already satisfied: pandas in c:\\users\\acer\\appdata\\local\\packages\\pythonsoftwarefoundation.python.3.9_qbz5n2kfra8p0\\localcache\\local-packages\\python39\\site-packages (2.3.2)\n",
      "Requirement already satisfied: numpy>=1.16.5 in c:\\users\\acer\\appdata\\local\\packages\\pythonsoftwarefoundation.python.3.9_qbz5n2kfra8p0\\localcache\\local-packages\\python39\\site-packages (from yfinance) (2.0.2)\n",
      "Requirement already satisfied: requests>=2.31 in c:\\users\\acer\\appdata\\local\\packages\\pythonsoftwarefoundation.python.3.9_qbz5n2kfra8p0\\localcache\\local-packages\\python39\\site-packages (from yfinance) (2.32.5)\n",
      "Requirement already satisfied: multitasking>=0.0.7 in c:\\users\\acer\\appdata\\local\\packages\\pythonsoftwarefoundation.python.3.9_qbz5n2kfra8p0\\localcache\\local-packages\\python39\\site-packages (from yfinance) (0.0.12)\n",
      "Requirement already satisfied: platformdirs>=2.0.0 in c:\\users\\acer\\appdata\\local\\packages\\pythonsoftwarefoundation.python.3.9_qbz5n2kfra8p0\\localcache\\local-packages\\python39\\site-packages (from yfinance) (4.4.0)\n",
      "Requirement already satisfied: pytz>=2022.5 in c:\\users\\acer\\appdata\\local\\packages\\pythonsoftwarefoundation.python.3.9_qbz5n2kfra8p0\\localcache\\local-packages\\python39\\site-packages (from yfinance) (2025.2)\n",
      "Requirement already satisfied: frozendict>=2.3.4 in c:\\users\\acer\\appdata\\local\\packages\\pythonsoftwarefoundation.python.3.9_qbz5n2kfra8p0\\localcache\\local-packages\\python39\\site-packages (from yfinance) (2.4.6)\n",
      "Requirement already satisfied: peewee>=3.16.2 in c:\\users\\acer\\appdata\\local\\packages\\pythonsoftwarefoundation.python.3.9_qbz5n2kfra8p0\\localcache\\local-packages\\python39\\site-packages (from yfinance) (3.18.2)\n",
      "Requirement already satisfied: beautifulsoup4>=4.11.1 in c:\\users\\acer\\appdata\\local\\packages\\pythonsoftwarefoundation.python.3.9_qbz5n2kfra8p0\\localcache\\local-packages\\python39\\site-packages (from yfinance) (4.13.5)\n",
      "Requirement already satisfied: curl_cffi>=0.7 in c:\\users\\acer\\appdata\\local\\packages\\pythonsoftwarefoundation.python.3.9_qbz5n2kfra8p0\\localcache\\local-packages\\python39\\site-packages (from yfinance) (0.13.0)\n",
      "Requirement already satisfied: protobuf>=3.19.0 in c:\\users\\acer\\appdata\\local\\packages\\pythonsoftwarefoundation.python.3.9_qbz5n2kfra8p0\\localcache\\local-packages\\python39\\site-packages (from yfinance) (6.32.0)\n",
      "Requirement already satisfied: websockets>=13.0 in c:\\users\\acer\\appdata\\local\\packages\\pythonsoftwarefoundation.python.3.9_qbz5n2kfra8p0\\localcache\\local-packages\\python39\\site-packages (from yfinance) (15.0.1)\n",
      "Requirement already satisfied: python-dateutil>=2.8.2 in c:\\users\\acer\\appdata\\local\\packages\\pythonsoftwarefoundation.python.3.9_qbz5n2kfra8p0\\localcache\\local-packages\\python39\\site-packages (from pandas) (2.9.0.post0)\n",
      "Requirement already satisfied: tzdata>=2022.7 in c:\\users\\acer\\appdata\\local\\packages\\pythonsoftwarefoundation.python.3.9_qbz5n2kfra8p0\\localcache\\local-packages\\python39\\site-packages (from pandas) (2025.2)\n",
      "Requirement already satisfied: soupsieve>1.2 in c:\\users\\acer\\appdata\\local\\packages\\pythonsoftwarefoundation.python.3.9_qbz5n2kfra8p0\\localcache\\local-packages\\python39\\site-packages (from beautifulsoup4>=4.11.1->yfinance) (2.8)\n",
      "Requirement already satisfied: typing-extensions>=4.0.0 in c:\\users\\acer\\appdata\\local\\packages\\pythonsoftwarefoundation.python.3.9_qbz5n2kfra8p0\\localcache\\local-packages\\python39\\site-packages (from beautifulsoup4>=4.11.1->yfinance) (4.15.0)\n",
      "Requirement already satisfied: cffi>=1.12.0 in c:\\users\\acer\\appdata\\local\\packages\\pythonsoftwarefoundation.python.3.9_qbz5n2kfra8p0\\localcache\\local-packages\\python39\\site-packages (from curl_cffi>=0.7->yfinance) (1.17.1)\n",
      "Requirement already satisfied: certifi>=2024.2.2 in c:\\users\\acer\\appdata\\local\\packages\\pythonsoftwarefoundation.python.3.9_qbz5n2kfra8p0\\localcache\\local-packages\\python39\\site-packages (from curl_cffi>=0.7->yfinance) (2025.8.3)\n",
      "Requirement already satisfied: pycparser in c:\\users\\acer\\appdata\\local\\packages\\pythonsoftwarefoundation.python.3.9_qbz5n2kfra8p0\\localcache\\local-packages\\python39\\site-packages (from cffi>=1.12.0->curl_cffi>=0.7->yfinance) (2.22)\n",
      "Requirement already satisfied: six>=1.5 in c:\\users\\acer\\appdata\\local\\packages\\pythonsoftwarefoundation.python.3.9_qbz5n2kfra8p0\\localcache\\local-packages\\python39\\site-packages (from python-dateutil>=2.8.2->pandas) (1.17.0)\n",
      "Requirement already satisfied: charset_normalizer<4,>=2 in c:\\users\\acer\\appdata\\local\\packages\\pythonsoftwarefoundation.python.3.9_qbz5n2kfra8p0\\localcache\\local-packages\\python39\\site-packages (from requests>=2.31->yfinance) (3.4.3)\n",
      "Requirement already satisfied: idna<4,>=2.5 in c:\\users\\acer\\appdata\\local\\packages\\pythonsoftwarefoundation.python.3.9_qbz5n2kfra8p0\\localcache\\local-packages\\python39\\site-packages (from requests>=2.31->yfinance) (3.10)\n",
      "Requirement already satisfied: urllib3<3,>=1.21.1 in c:\\users\\acer\\appdata\\local\\packages\\pythonsoftwarefoundation.python.3.9_qbz5n2kfra8p0\\localcache\\local-packages\\python39\\site-packages (from requests>=2.31->yfinance) (2.5.0)\n",
      "Note: you may need to restart the kernel to use updated packages.\n"
     ]
    }
   ],
   "source": [
    "pip install yfinance pandas"
   ]
  },
  {
   "cell_type": "code",
   "execution_count": 3,
   "id": "0142bc70",
   "metadata": {},
   "outputs": [],
   "source": [
    "\n",
    "import yfinance as yf, pandas as pd\n",
    "\n",
    "\n",
    "\n",
    "\n",
    "\n"
   ]
  },
  {
   "cell_type": "code",
   "execution_count": 4,
   "id": "a581640b",
   "metadata": {},
   "outputs": [
    {
     "name": "stdout",
     "output_type": "stream",
     "text": [
      "0 []\n"
     ]
    }
   ],
   "source": [
    "import requests\n",
    "\n",
    "r = requests.get(\"https://brapi.dev/api/available\", timeout=15)\n",
    "r.raise_for_status()\n",
    "data = r.json()\n",
    "\n",
    "# filtra apenas tickers que já são da B3\n",
    "tickers_sa = sorted({t for t in data.get(\"stocks\", []) if t.endswith(\".SA\")})\n",
    "\n",
    "print(len(tickers_sa), tickers_sa[:15])\n"
   ]
  },
  {
   "cell_type": "code",
   "execution_count": 5,
   "id": "6c63f069",
   "metadata": {},
   "outputs": [
    {
     "name": "stdout",
     "output_type": "stream",
     "text": [
      "1757 ['A1AP34.SA', 'A1EG34.SA', 'A1IV34.SA', 'A1JG34.SA', 'A1LB34.SA', 'A1LG34.SA', 'A1LN34.SA', 'A1MD34.SA', 'A1MP34.SA', 'A1MT34.SA', 'A1NE34.SA', 'A1PA34.SA', 'A1PH34.SA', 'A1PO34.SA', 'A1RE34.SA']\n"
     ]
    }
   ],
   "source": [
    "# pip install requests\n",
    "import requests\n",
    "\n",
    "r = requests.get(\"https://brapi.dev/api/available\", timeout=15)\n",
    "r.raise_for_status()\n",
    "data = r.json()\n",
    "\n",
    "tickers = data.get(\"stocks\", [])           # <- já vem como lista de strings\n",
    "tickers_sa = sorted({f\"{t}.SA\" for t in tickers})\n",
    "\n",
    "print(len(tickers_sa), tickers_sa[:15])\n"
   ]
  },
  {
   "cell_type": "code",
   "execution_count": null,
   "id": "5abd38a3",
   "metadata": {},
   "outputs": [],
   "source": []
  },
  {
   "cell_type": "code",
   "execution_count": 12,
   "id": "e330e85e",
   "metadata": {},
   "outputs": [
    {
     "name": "stdout",
     "output_type": "stream",
     "text": [
      "  cruzou: A1AP34.SA\n",
      "  cruzou: ABCB4.SA\n"
     ]
    },
    {
     "name": "stderr",
     "output_type": "stream",
     "text": [
      "\n",
      "1 Failed download:\n",
      "['BEWU39.SA']: Timeout('Failed to perform, curl: (28) Connection timed out after 10001 milliseconds. See https://curl.se/libcurl/c/libcurl-errors.html first for more details.')\n"
     ]
    },
    {
     "name": "stdout",
     "output_type": "stream",
     "text": [
      "  cruzou: BLBT39.SA\n",
      "  cruzou: BLOK11.SA\n",
      "  cruzou: C2RS34.SA\n",
      "  cruzou: CBEE3.SA\n",
      "  cruzou: CEBR3.SA\n",
      "  cruzou: CXTL11.SA\n",
      "  cruzou: DEFI11.SA\n",
      "  cruzou: EZTC3.SA\n",
      "  cruzou: FDMO34.SA\n",
      "  cruzou: FIIB11.SA\n",
      "  cruzou: FLRY3.SA\n",
      "  cruzou: FVPQ11.SA\n",
      "  cruzou: HGRE11.SA\n",
      "  cruzou: INRD11.SA\n",
      "  cruzou: K2RC34.SA\n",
      "  cruzou: KNOX11.SA\n",
      "  cruzou: MILS3.SA\n",
      "  cruzou: MRVE3.SA\n",
      "  cruzou: MTSA4.SA\n",
      "  cruzou: N1BI34.SA\n",
      "  cruzou: N2LY34.SA\n",
      "  cruzou: PATL11.SA\n",
      "  cruzou: PPEI11.SA\n"
     ]
    },
    {
     "name": "stderr",
     "output_type": "stream",
     "text": [
      "\n",
      "1 Failed download:\n",
      "['RENT3.SA']: Timeout('Failed to perform, curl: (28) Connection timed out after 10005 milliseconds. See https://curl.se/libcurl/c/libcurl-errors.html first for more details.')\n"
     ]
    },
    {
     "name": "stdout",
     "output_type": "stream",
     "text": [
      "  cruzou: TRXB11.SA\n",
      "  cruzou: VBBR3.SA\n",
      "  cruzou: WEB311.SA\n",
      "  cruzou: X1YZ34.SA\n"
     ]
    }
   ],
   "source": [
    "interval = '1mo';period = '30mo'\n",
    "#interval='1d'; period='30d'\n",
    "#interval = '1wk'; period = '30wk'\n",
    "\n",
    "lista = []\n",
    "for t in tickers_sa:  # testar só os 3 primeiros\n",
    "    \n",
    "    df = yf.download(t, interval=interval, period=period, auto_adjust=False, progress=False)\n",
    "    if df.empty: \n",
    "        continue\n",
    "    c = df['Close'].dropna()\n",
    "    if isinstance(c, pd.DataFrame):  # garante Series (evita ambiguidade no .iloc)\n",
    "        c = c.iloc[:, 0]\n",
    "    if len(c) < 21:\n",
    "        continue\n",
    "\n",
    "    m3 = c.rolling(3).mean()\n",
    "    m8 = c.rolling(8).mean()\n",
    "    m20 = c.rolling(20).mean()\n",
    "\n",
    "    a = m3 - m8\n",
    "    y = m20 - m8\n",
    "\n",
    "    cruzou = (a.iloc[-2] - y.iloc[-2]) < 0 and (a.iloc[-1] - y.iloc[-1]) > 0\n",
    "    if cruzou:\n",
    "        print(f\"  cruzou: {t}\")\n",
    "        lista.append(t)\n"
   ]
  },
  {
   "cell_type": "code",
   "execution_count": 13,
   "id": "3a5230ad",
   "metadata": {},
   "outputs": [
    {
     "data": {
      "text/plain": [
       "['A1AP34.SA',\n",
       " 'ABCB4.SA',\n",
       " 'BLBT39.SA',\n",
       " 'BLOK11.SA',\n",
       " 'C2RS34.SA',\n",
       " 'CBEE3.SA',\n",
       " 'CEBR3.SA',\n",
       " 'CXTL11.SA',\n",
       " 'DEFI11.SA',\n",
       " 'EZTC3.SA',\n",
       " 'FDMO34.SA',\n",
       " 'FIIB11.SA',\n",
       " 'FLRY3.SA',\n",
       " 'FVPQ11.SA',\n",
       " 'HGRE11.SA',\n",
       " 'INRD11.SA',\n",
       " 'K2RC34.SA',\n",
       " 'KNOX11.SA',\n",
       " 'MILS3.SA',\n",
       " 'MRVE3.SA',\n",
       " 'MTSA4.SA',\n",
       " 'N1BI34.SA',\n",
       " 'N2LY34.SA',\n",
       " 'PATL11.SA',\n",
       " 'PPEI11.SA',\n",
       " 'TRXB11.SA',\n",
       " 'VBBR3.SA',\n",
       " 'WEB311.SA',\n",
       " 'X1YZ34.SA']"
      ]
     },
     "execution_count": 13,
     "metadata": {},
     "output_type": "execute_result"
    }
   ],
   "source": [
    "lista\n",
    "\n"
   ]
  },
  {
   "cell_type": "code",
   "execution_count": null,
   "id": "33d86b8d",
   "metadata": {},
   "outputs": [],
   "source": [
    "\n"
   ]
  }
 ],
 "metadata": {
  "kernelspec": {
   "display_name": "Python 3",
   "language": "python",
   "name": "python3"
  },
  "language_info": {
   "codemirror_mode": {
    "name": "ipython",
    "version": 3
   },
   "file_extension": ".py",
   "mimetype": "text/x-python",
   "name": "python",
   "nbconvert_exporter": "python",
   "pygments_lexer": "ipython3",
   "version": "3.9.13"
  }
 },
 "nbformat": 4,
 "nbformat_minor": 5
}
