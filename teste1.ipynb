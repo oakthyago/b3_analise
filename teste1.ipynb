{
 "cells": [
  {
   "cell_type": "code",

 

   "execution_count": 1,
   "id": "7615a91b",
   "metadata": {},

   "outputs": [
    {
     "name": "stdout",
     "output_type": "stream",
     "text": [

      "BBAS3.SA 30m: Didi cruzou de BAIXO pra CIMA? NÃO\n"


     ]
    }
   ],
   "source": [

    "print(f\"{t} {interval}: Didi cruzou de BAIXO pra CIMA? \"\n",
    "      f\"{'SIM' if (a.iloc[-2]-y.iloc[-2]).item()<0 and (a.iloc[-1]-y.iloc[-1]).item()>0 else 'NÃO'}\")\n"


   ]
  }
 ],
 "metadata": {
  "kernelspec": {
   "display_name": "Python 3",
   "language": "python",
   "name": "python3"
  },
  "language_info": {
   "codemirror_mode": {
    "name": "ipython",
    "version": 3
   },
   "file_extension": ".py",
   "mimetype": "text/x-python",
   "name": "python",
   "nbconvert_exporter": "python",
   "pygments_lexer": "ipython3",
   "version": "3.9.13"
  }
 },
 "nbformat": 4,
 "nbformat_minor": 5
}
